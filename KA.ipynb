{
 "cells": [
  {
   "cell_type": "code",
   "execution_count": 1,
   "metadata": {},
   "outputs": [],
   "source": [
    "VT = ['1', '0']\n",
    "S = 'A'; Z = 'E'\n",
    "M = {\n",
    "    'A': {\n",
    "        '1': 'B',\n",
    "        '0': 'C'\n",
    "    },\n",
    "    'B': {\n",
    "        '1': 'D',\n",
    "        '0': 'D'\n",
    "    },\n",
    "    'C': {\n",
    "        '1': 'D',\n",
    "        '0': 'D'\n",
    "    },\n",
    "    'D': {\n",
    "        '1': 'E'\n",
    "    }\n",
    "}"
   ]
  },
  {
   "cell_type": "code",
   "execution_count": 6,
   "metadata": {},
   "outputs": [],
   "source": [
    "def valid_str(string, VT, M, S, Z):\n",
    "    flag = True\n",
    "    i = 0\n",
    "    curr_d = M[S]\n",
    "    while i < len(string) and flag:\n",
    "        if string[i] in VT:\n",
    "            try:\n",
    "                next_step = curr_d[string[i]]\n",
    "            except KeyError:\n",
    "                return 1\n",
    "            if next_step != Z:\n",
    "                curr_d = M[next_step]\n",
    "            else:\n",
    "                curr_d = M[S]\n",
    "        else:\n",
    "            return 1\n",
    "        i += 1\n",
    "    return 0"
   ]
  },
  {
   "cell_type": "code",
   "execution_count": 10,
   "metadata": {},
   "outputs": [
    {
     "name": "stdout",
     "output_type": "stream",
     "text": [
      "not valid\n"
     ]
    }
   ],
   "source": [
    "sss = '001011101111110'\n",
    "print('not valid') if valid_str(sss, VT, M, S, Z) else print('valid')"
   ]
  },
  {
   "cell_type": "code",
   "execution_count": null,
   "metadata": {},
   "outputs": [],
   "source": []
  }
 ],
 "metadata": {
  "kernelspec": {
   "display_name": "Python 3",
   "language": "python",
   "name": "python3"
  },
  "language_info": {
   "codemirror_mode": {
    "name": "ipython",
    "version": 3
   },
   "file_extension": ".py",
   "mimetype": "text/x-python",
   "name": "python",
   "nbconvert_exporter": "python",
   "pygments_lexer": "ipython3",
   "version": "3.6.4"
  }
 },
 "nbformat": 4,
 "nbformat_minor": 2
}
